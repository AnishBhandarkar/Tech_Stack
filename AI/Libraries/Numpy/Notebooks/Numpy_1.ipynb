{
 "cells": [
  {
   "cell_type": "markdown",
   "id": "98d0de2a",
   "metadata": {},
   "source": [
    "# Numpy"
   ]
  },
  {
   "cell_type": "raw",
   "id": "662e8f63",
   "metadata": {},
   "source": [
    "* Numpy is a fundamental package for scientific computing in python.\n",
    "* It provides a high-performance multidimensional array object and tools for working with them.\n",
    "* Numpy stands for Numeric Python"
   ]
  },
  {
   "cell_type": "code",
   "execution_count": 1,
   "id": "70fdc7fd",
   "metadata": {},
   "outputs": [
    {
     "name": "stdout",
     "output_type": "stream",
     "text": [
      "1.23.1\n"
     ]
    }
   ],
   "source": [
    "#importing numpy in python\n",
    "import numpy as np\n",
    "print(np.__version__)"
   ]
  },
  {
   "cell_type": "markdown",
   "id": "903dca47",
   "metadata": {},
   "source": [
    "## 1)Numpy array"
   ]
  },
  {
   "cell_type": "raw",
   "id": "565fce54",
   "metadata": {},
   "source": [
    "* Numpy's array class is called ndarray.\n",
    "* It holds only homogenous data.\n",
    "* Here, elements are stored in contiguous locations unlike in lists."
   ]
  },
  {
   "cell_type": "code",
   "execution_count": 27,
   "id": "2b38144e",
   "metadata": {},
   "outputs": [
    {
     "data": {
      "text/plain": [
       "array([10, 20, 30])"
      ]
     },
     "execution_count": 27,
     "metadata": {},
     "output_type": "execute_result"
    }
   ],
   "source": [
    "#Creating an array object\n",
    "arr = np.array([10, 20, 30])\n",
    "arr"
   ]
  },
  {
   "cell_type": "code",
   "execution_count": 5,
   "id": "3ab5e7e6",
   "metadata": {},
   "outputs": [
    {
     "data": {
      "text/plain": [
       "numpy.ndarray"
      ]
     },
     "execution_count": 5,
     "metadata": {},
     "output_type": "execute_result"
    }
   ],
   "source": [
    "#Printing type\n",
    "type(arr)"
   ]
  },
  {
   "cell_type": "code",
   "execution_count": 6,
   "id": "70468c5a",
   "metadata": {},
   "outputs": [
    {
     "data": {
      "text/plain": [
       "1"
      ]
     },
     "execution_count": 6,
     "metadata": {},
     "output_type": "execute_result"
    }
   ],
   "source": [
    "#Printing number of dimensions (axes)\n",
    "arr.ndim"
   ]
  },
  {
   "cell_type": "code",
   "execution_count": 7,
   "id": "3e8a9c23",
   "metadata": {},
   "outputs": [
    {
     "data": {
      "text/plain": [
       "(3,)"
      ]
     },
     "execution_count": 7,
     "metadata": {},
     "output_type": "execute_result"
    }
   ],
   "source": [
    "#printng shape\n",
    "arr.shape"
   ]
  },
  {
   "cell_type": "code",
   "execution_count": 29,
   "id": "49fab680",
   "metadata": {},
   "outputs": [
    {
     "data": {
      "text/plain": [
       "3"
      ]
     },
     "execution_count": 29,
     "metadata": {},
     "output_type": "execute_result"
    }
   ],
   "source": [
    "#Printing size (Total number of elements)\n",
    "arr.size"
   ]
  },
  {
   "cell_type": "code",
   "execution_count": 9,
   "id": "b83c250a",
   "metadata": {},
   "outputs": [
    {
     "data": {
      "text/plain": [
       "dtype('int32')"
      ]
     },
     "execution_count": 9,
     "metadata": {},
     "output_type": "execute_result"
    }
   ],
   "source": [
    "#Printing datatype\n",
    "arr.dtype"
   ]
  },
  {
   "cell_type": "code",
   "execution_count": 28,
   "id": "42c2afc3",
   "metadata": {},
   "outputs": [
    {
     "data": {
      "text/plain": [
       "4"
      ]
     },
     "execution_count": 28,
     "metadata": {},
     "output_type": "execute_result"
    }
   ],
   "source": [
    "#returns the size (in bytes) of a single element in an array.\n",
    "arr.itemsize"
   ]
  },
  {
   "cell_type": "code",
   "execution_count": 30,
   "id": "03db9f4b",
   "metadata": {},
   "outputs": [
    {
     "data": {
      "text/plain": [
       "12"
      ]
     },
     "execution_count": 30,
     "metadata": {},
     "output_type": "execute_result"
    }
   ],
   "source": [
    "#returns the total number of bytes consumed by the elements in the array\n",
    "arr.nbytes"
   ]
  },
  {
   "cell_type": "markdown",
   "id": "b059bab2",
   "metadata": {},
   "source": [
    "### 1.1 Dimensions in arrays"
   ]
  },
  {
   "cell_type": "code",
   "execution_count": 19,
   "id": "9e3f848d",
   "metadata": {},
   "outputs": [
    {
     "name": "stdout",
     "output_type": "stream",
     "text": [
      "34\n",
      "Array dimension: 0\n",
      "Array shape: ()\n",
      "Array size: 1\n"
     ]
    }
   ],
   "source": [
    "#0-D array\n",
    "arr = np.array(34)\n",
    "print(arr)\n",
    "print('Array dimension:', arr.ndim)\n",
    "print('Array shape:', arr.shape)\n",
    "print('Array size:', arr.size)"
   ]
  },
  {
   "cell_type": "code",
   "execution_count": 20,
   "id": "df9d6f8e",
   "metadata": {},
   "outputs": [
    {
     "name": "stdout",
     "output_type": "stream",
     "text": [
      "[12 34 56 78]\n",
      "Array dimension: 1\n",
      "Array shape: (4,)\n",
      "Array size: 4\n"
     ]
    }
   ],
   "source": [
    "#1-D array\n",
    "#An array that has 0-D arrays as its elements is called uni-dimensional or 1-D array.\n",
    "arr = np.array([12, 34, 56, 78])\n",
    "print(arr)\n",
    "print('Array dimension:', arr.ndim)\n",
    "print('Array shape:', arr.shape)\n",
    "print('Array size:', arr.size)"
   ]
  },
  {
   "cell_type": "code",
   "execution_count": 23,
   "id": "babd3263",
   "metadata": {},
   "outputs": [
    {
     "name": "stdout",
     "output_type": "stream",
     "text": [
      "[[12 34]\n",
      " [33 89]\n",
      " [45 28]]\n",
      "Array dimension: 2\n",
      "Array shape: (3, 2)\n",
      "Array size: 6\n"
     ]
    }
   ],
   "source": [
    "#2-D array\n",
    "#An array that has 1-D arrays as its elements is called 2-D array.\n",
    "arr = np.array([[12, 34], [33, 89], [45, 28]])\n",
    "print(arr)\n",
    "print('Array dimension:', arr.ndim)\n",
    "print('Array shape:', arr.shape)\n",
    "print('Array size:', arr.size)"
   ]
  },
  {
   "cell_type": "code",
   "execution_count": 26,
   "id": "3344bb86",
   "metadata": {},
   "outputs": [
    {
     "name": "stdout",
     "output_type": "stream",
     "text": [
      "[[[1 2 8]\n",
      "  [3 4 9]]\n",
      "\n",
      " [[6 7 3]\n",
      "  [8 9 2]]]\n",
      "Array dimension: 3\n",
      "Array shape: (2, 2, 3)\n",
      "Array size: 12\n"
     ]
    }
   ],
   "source": [
    "#3-D array\n",
    "#An array that has 2-D arrays as its elements is called 3-D array.\n",
    "arr = np.array([[[1, 2, 8], [3, 4, 9]], [[6, 7, 3], [8,9, 2]]])\n",
    "print(arr)\n",
    "print('Array dimension:', arr.ndim)\n",
    "print('Array shape:', arr.shape)\n",
    "print('Array size:', arr.size)\n",
    "\n",
    "#(2, 2, 3) Means: The array has 2 2D arrys, then, 2 1D arrys within each 2D arry and then 3 elements within each 1D array."
   ]
  },
  {
   "cell_type": "raw",
   "id": "ed34c262",
   "metadata": {},
   "source": [
    "Note:\n",
    "While creating an array, we can also pass tuple/nested tuple in place of list/nested lists."
   ]
  },
  {
   "cell_type": "markdown",
   "id": "30d0cd89",
   "metadata": {},
   "source": [
    "### 1.2 Accessing specific array elements"
   ]
  },
  {
   "cell_type": "code",
   "execution_count": null,
   "id": "73f1856b",
   "metadata": {},
   "outputs": [],
   "source": [
    "#Index starts from 0"
   ]
  },
  {
   "cell_type": "code",
   "execution_count": 43,
   "id": "7d3c7d00",
   "metadata": {},
   "outputs": [
    {
     "name": "stdout",
     "output_type": "stream",
     "text": [
      "[34 56 78 99 54]\n",
      "34\n",
      "54\n"
     ]
    }
   ],
   "source": [
    "#1D array\n",
    "arr = np.array([34, 56, 78, 99, 54])\n",
    "print(arr)\n",
    "print(arr[0])\n",
    "print(arr[arr.size-1])"
   ]
  },
  {
   "cell_type": "code",
   "execution_count": 50,
   "id": "06b11ad1",
   "metadata": {},
   "outputs": [
    {
     "name": "stdout",
     "output_type": "stream",
     "text": [
      "[[56 78 33]\n",
      " [90 23 85]]\n",
      "(2, 3)\n",
      "33\n",
      "23\n"
     ]
    }
   ],
   "source": [
    "#2D array\n",
    "ar2 = np.array([[56, 78, 33], [90, 23, 85]])\n",
    "print(ar2)\n",
    "print(ar2.shape)\n",
    "print(ar2[0, 2]) #[r, c]\n",
    "print(ar2[1, 1])"
   ]
  },
  {
   "cell_type": "code",
   "execution_count": 52,
   "id": "aa3ce735",
   "metadata": {},
   "outputs": [
    {
     "name": "stdout",
     "output_type": "stream",
     "text": [
      "(2, 3, 4)\n",
      "[[[8 7 9 3]\n",
      "  [2 4 0 1]\n",
      "  [8 7 9 3]]\n",
      "\n",
      " [[8 7 9 3]\n",
      "  [2 4 0 1]\n",
      "  [8 7 9 3]]]\n",
      "9\n"
     ]
    }
   ],
   "source": [
    "#3D array\n",
    "ar3 = np.array([[[8, 7, 9, 3], [2, 4, 0, 1], [8, 7, 9, 3]], [[8, 7, 9, 3], [2, 4, 0, 1], [8, 7, 9, 3]]])\n",
    "print(ar3.shape)\n",
    "print(ar3)\n",
    "\n",
    "print(ar3[1, 0, 2])"
   ]
  },
  {
   "cell_type": "markdown",
   "id": "81d0e1d3",
   "metadata": {},
   "source": [
    "### 1.3 Slicing"
   ]
  },
  {
   "cell_type": "code",
   "execution_count": null,
   "id": "77e35c51",
   "metadata": {},
   "outputs": [],
   "source": [
    "#In slicing, [start:end:step]\n",
    "#end index is exclusive\n",
    "#By default step is 1\n",
    "#Negative index starts from -1"
   ]
  },
  {
   "cell_type": "code",
   "execution_count": 57,
   "id": "6b4d15a9",
   "metadata": {},
   "outputs": [
    {
     "data": {
      "text/plain": [
       "array([56, 78, 99])"
      ]
     },
     "execution_count": 57,
     "metadata": {},
     "output_type": "execute_result"
    }
   ],
   "source": [
    "#1D array\n",
    "arr = np.array([34, 56, 78, 99, 54])\n",
    "arr[1:4]"
   ]
  },
  {
   "cell_type": "code",
   "execution_count": 58,
   "id": "b041d1d1",
   "metadata": {},
   "outputs": [
    {
     "data": {
      "text/plain": [
       "array([34, 78])"
      ]
     },
     "execution_count": 58,
     "metadata": {},
     "output_type": "execute_result"
    }
   ],
   "source": [
    "arr[:4:2]"
   ]
  },
  {
   "cell_type": "code",
   "execution_count": 59,
   "id": "bacb05a8",
   "metadata": {},
   "outputs": [
    {
     "data": {
      "text/plain": [
       "array([90, 23, 85])"
      ]
     },
     "execution_count": 59,
     "metadata": {},
     "output_type": "execute_result"
    }
   ],
   "source": [
    "#2D array\n",
    "#arr[s:e:st, s:e:st]\n",
    "ar2 = np.array([[56, 78, 33], \n",
    "                [90, 23, 85]])\n",
    "ar2[1, :]"
   ]
  },
  {
   "cell_type": "code",
   "execution_count": 60,
   "id": "2f76b2fa",
   "metadata": {},
   "outputs": [
    {
     "data": {
      "text/plain": [
       "array([33, 85])"
      ]
     },
     "execution_count": 60,
     "metadata": {},
     "output_type": "execute_result"
    }
   ],
   "source": [
    "ar2[:, 2]"
   ]
  },
  {
   "cell_type": "code",
   "execution_count": 64,
   "id": "9f5d04f6",
   "metadata": {},
   "outputs": [
    {
     "data": {
      "text/plain": [
       "array([[56, 33],\n",
       "       [90, 85]])"
      ]
     },
     "execution_count": 64,
     "metadata": {},
     "output_type": "execute_result"
    }
   ],
   "source": [
    "ar2[:, ::2]"
   ]
  },
  {
   "cell_type": "code",
   "execution_count": 66,
   "id": "a6863ae4",
   "metadata": {},
   "outputs": [
    {
     "data": {
      "text/plain": [
       "array([2, 4, 0, 1])"
      ]
     },
     "execution_count": 66,
     "metadata": {},
     "output_type": "execute_result"
    }
   ],
   "source": [
    "#3D array\n",
    "#arr[s:e:st, s:e:st, s:e:st]\n",
    "ar3 = np.array([[[8, 7, 9, 3], \n",
    "                 [2, 4, 0, 1],\n",
    "                 [8, 7, 9, 3]],\n",
    "                [[8, 7, 9, 3],\n",
    "                 [2, 4, 0, 1],\n",
    "                 [8, 7, 9, 3]]])\n",
    "\n",
    "ar3[1, 1, :]"
   ]
  },
  {
   "cell_type": "code",
   "execution_count": 67,
   "id": "fd935e3f",
   "metadata": {},
   "outputs": [
    {
     "data": {
      "text/plain": [
       "array([[8, 7, 9, 3],\n",
       "       [2, 4, 0, 1],\n",
       "       [8, 7, 9, 3]])"
      ]
     },
     "execution_count": 67,
     "metadata": {},
     "output_type": "execute_result"
    }
   ],
   "source": [
    "ar3[0, :, :]"
   ]
  },
  {
   "cell_type": "code",
   "execution_count": 68,
   "id": "3efbc8e0",
   "metadata": {},
   "outputs": [
    {
     "data": {
      "text/plain": [
       "array([[7, 9],\n",
       "       [4, 0]])"
      ]
     },
     "execution_count": 68,
     "metadata": {},
     "output_type": "execute_result"
    }
   ],
   "source": [
    "ar3[1, :2, 1:3]"
   ]
  },
  {
   "cell_type": "code",
   "execution_count": 69,
   "id": "9eea2aa2",
   "metadata": {},
   "outputs": [
    {
     "data": {
      "text/plain": [
       "array([[8, 9],\n",
       "       [2, 0],\n",
       "       [8, 9]])"
      ]
     },
     "execution_count": 69,
     "metadata": {},
     "output_type": "execute_result"
    }
   ],
   "source": [
    "ar3[1, :3, ::2]"
   ]
  },
  {
   "cell_type": "markdown",
   "id": "39be9c78",
   "metadata": {},
   "source": [
    "### 1.4 Different types of arrays"
   ]
  },
  {
   "cell_type": "code",
   "execution_count": 70,
   "id": "7d61abc8",
   "metadata": {},
   "outputs": [
    {
     "data": {
      "text/plain": [
       "array([[0., 0., 0., 0.],\n",
       "       [0., 0., 0., 0.],\n",
       "       [0., 0., 0., 0.]])"
      ]
     },
     "execution_count": 70,
     "metadata": {},
     "output_type": "execute_result"
    }
   ],
   "source": [
    "#Creates an array filled with zeros.\n",
    "ar2 = np.zeros((3, 4))\n",
    "ar2"
   ]
  },
  {
   "cell_type": "code",
   "execution_count": 71,
   "id": "da1fff87",
   "metadata": {},
   "outputs": [
    {
     "data": {
      "text/plain": [
       "array([[0., 0., 0., 0., 0., 0., 0.]])"
      ]
     },
     "execution_count": 71,
     "metadata": {},
     "output_type": "execute_result"
    }
   ],
   "source": [
    "ar1 = np.zeros((1, 7))\n",
    "ar1"
   ]
  },
  {
   "cell_type": "code",
   "execution_count": 72,
   "id": "72977218",
   "metadata": {},
   "outputs": [
    {
     "data": {
      "text/plain": [
       "array([[[0., 0., 0., 0., 0.],\n",
       "        [0., 0., 0., 0., 0.]],\n",
       "\n",
       "       [[0., 0., 0., 0., 0.],\n",
       "        [0., 0., 0., 0., 0.]],\n",
       "\n",
       "       [[0., 0., 0., 0., 0.],\n",
       "        [0., 0., 0., 0., 0.]]])"
      ]
     },
     "execution_count": 72,
     "metadata": {},
     "output_type": "execute_result"
    }
   ],
   "source": [
    "ar3 = np.zeros((3, 2, 5))\n",
    "ar3"
   ]
  },
  {
   "cell_type": "code",
   "execution_count": 74,
   "id": "c684d048",
   "metadata": {},
   "outputs": [
    {
     "data": {
      "text/plain": [
       "array([[1., 1.],\n",
       "       [1., 1.],\n",
       "       [1., 1.],\n",
       "       [1., 1.]])"
      ]
     },
     "execution_count": 74,
     "metadata": {},
     "output_type": "execute_result"
    }
   ],
   "source": [
    "# Creates an array filled with ones.\n",
    "ar = np.ones((4, 2))\n",
    "ar"
   ]
  },
  {
   "cell_type": "code",
   "execution_count": 75,
   "id": "9df9b1d9",
   "metadata": {},
   "outputs": [
    {
     "data": {
      "text/plain": [
       "array([[4.24399158e-314, 6.36598738e-314, 1.90979621e-313],\n",
       "       [1.48539705e-313, 1.69759663e-313, 4.24399159e-314]])"
      ]
     },
     "execution_count": 75,
     "metadata": {},
     "output_type": "execute_result"
    }
   ],
   "source": [
    "# Creates an array without initializing its elements to any particular value\n",
    "ar = np.empty((2, 3))\n",
    "ar"
   ]
  },
  {
   "cell_type": "code",
   "execution_count": 76,
   "id": "59ded235",
   "metadata": {},
   "outputs": [
    {
     "data": {
      "text/plain": [
       "array([[7, 7],\n",
       "       [7, 7],\n",
       "       [7, 7]])"
      ]
     },
     "execution_count": 76,
     "metadata": {},
     "output_type": "execute_result"
    }
   ],
   "source": [
    "# Creates an array filled with a specific value.\n",
    "ar = np.full((3, 2), 7)\n",
    "ar"
   ]
  },
  {
   "cell_type": "code",
   "execution_count": 82,
   "id": "69088cba",
   "metadata": {},
   "outputs": [
    {
     "data": {
      "text/plain": [
       "array([[1., 0., 0.],\n",
       "       [0., 1., 0.],\n",
       "       [0., 0., 1.]])"
      ]
     },
     "execution_count": 82,
     "metadata": {},
     "output_type": "execute_result"
    }
   ],
   "source": [
    "# Creates a square identity matrix\n",
    "ar = np.identity(3)\n",
    "ar"
   ]
  },
  {
   "cell_type": "code",
   "execution_count": 73,
   "id": "1eac89e5",
   "metadata": {},
   "outputs": [
    {
     "data": {
      "text/plain": [
       "array([[1., 0., 0.],\n",
       "       [0., 1., 0.],\n",
       "       [0., 0., 1.]])"
      ]
     },
     "execution_count": 73,
     "metadata": {},
     "output_type": "execute_result"
    }
   ],
   "source": [
    "# Alternative way for identity matrix\n",
    "ar = np.eye(3)\n",
    "ar"
   ]
  },
  {
   "cell_type": "code",
   "execution_count": 84,
   "id": "b2a0903c",
   "metadata": {},
   "outputs": [
    {
     "data": {
      "text/plain": [
       "array([[0.6516711 , 0.60258966, 0.65254672],\n",
       "       [0.62604753, 0.29127523, 0.78790065],\n",
       "       [0.29120832, 0.88705696, 0.86361618],\n",
       "       [0.54723982, 0.21870999, 0.24761215]])"
      ]
     },
     "execution_count": 84,
     "metadata": {},
     "output_type": "execute_result"
    }
   ],
   "source": [
    "#  Creates an array filled with random values between 0 and 1.\n",
    "ar = np.random.random((4, 3))\n",
    "ar"
   ]
  },
  {
   "cell_type": "code",
   "execution_count": 102,
   "id": "fba77b01",
   "metadata": {},
   "outputs": [
    {
     "data": {
      "text/plain": [
       "array([[162, 230],\n",
       "       [198, 201],\n",
       "       [ 54,  76]])"
      ]
     },
     "execution_count": 102,
     "metadata": {},
     "output_type": "execute_result"
    }
   ],
   "source": [
    "# Random Integer values betwwn given range\n",
    "# end index exclusive\n",
    "ar = np.random.randint(0, 256, size=(3,2))\n",
    "ar"
   ]
  },
  {
   "cell_type": "code",
   "execution_count": 103,
   "id": "331bbf68",
   "metadata": {},
   "outputs": [
    {
     "data": {
      "text/plain": [
       "array([10, 15, 20, 25])"
      ]
     },
     "execution_count": 103,
     "metadata": {},
     "output_type": "execute_result"
    }
   ],
   "source": [
    "#Creating a sequential arry with steps\n",
    "# (start, end, step) \n",
    "# end is exclusive\n",
    "\n",
    "np.arange(10, 30, 5)"
   ]
  },
  {
   "cell_type": "code",
   "execution_count": 118,
   "id": "2f8360b3",
   "metadata": {},
   "outputs": [
    {
     "data": {
      "text/plain": [
       "array([ 1. ,  2.8,  4.6,  6.4,  8.2, 10. ])"
      ]
     },
     "execution_count": 118,
     "metadata": {},
     "output_type": "execute_result"
    }
   ],
   "source": [
    "# linspace() function in NumPy is used to create an array of evenly spaced values within a specified range.\n",
    "#It takes in three parameters: start, stop, and num.\n",
    "# The linspace() function divides the interval between start and stop into num equally spaced values and\n",
    "# returns an array containing those values.\n",
    "np.linspace(1, 10, 6)\n"
   ]
  },
  {
   "cell_type": "markdown",
   "id": "55c0c66a",
   "metadata": {},
   "source": [
    "### 1.5 Creating copy"
   ]
  },
  {
   "cell_type": "code",
   "execution_count": 106,
   "id": "3ec9a08a",
   "metadata": {},
   "outputs": [
    {
     "name": "stdout",
     "output_type": "stream",
     "text": [
      "[[3 2]\n",
      " [0 8]\n",
      " [7 7]]\n",
      "[[3 2]\n",
      " [9 8]\n",
      " [7 7]]\n"
     ]
    }
   ],
   "source": [
    "#copy() used to create a deep copy of an array.\n",
    "#It returns a new array that is a separate copy of the original array, with its own data and memory.\n",
    "\n",
    "ar = np.random.randint(1, 10, (3, 2))\n",
    "\n",
    "arc = ar.copy()\n",
    "arc[1, 0] = 0\n",
    "\n",
    "print(arc)\n",
    "print(ar)"
   ]
  },
  {
   "cell_type": "markdown",
   "id": "4598cc24",
   "metadata": {},
   "source": [
    "### 1.6 Mathematical operations"
   ]
  },
  {
   "cell_type": "code",
   "execution_count": 4,
   "id": "68a68699",
   "metadata": {},
   "outputs": [
    {
     "data": {
      "text/plain": [
       "array([34,  6, 89, 13, 67, 11])"
      ]
     },
     "execution_count": 4,
     "metadata": {},
     "output_type": "execute_result"
    }
   ],
   "source": [
    "arr = np.array([34, 6, 89, 13, 67, 11])\n",
    "arr"
   ]
  },
  {
   "cell_type": "code",
   "execution_count": 110,
   "id": "01e918cb",
   "metadata": {},
   "outputs": [
    {
     "data": {
      "text/plain": [
       "array([44, 16, 99, 23, 77, 21])"
      ]
     },
     "execution_count": 110,
     "metadata": {},
     "output_type": "execute_result"
    }
   ],
   "source": [
    "arr + 10"
   ]
  },
  {
   "cell_type": "code",
   "execution_count": 111,
   "id": "d003d6f2",
   "metadata": {},
   "outputs": [
    {
     "data": {
      "text/plain": [
       "array([24, -4, 79,  3, 57,  1])"
      ]
     },
     "execution_count": 111,
     "metadata": {},
     "output_type": "execute_result"
    }
   ],
   "source": [
    "arr - 10"
   ]
  },
  {
   "cell_type": "code",
   "execution_count": 112,
   "id": "52a298bd",
   "metadata": {},
   "outputs": [
    {
     "data": {
      "text/plain": [
       "array([340,  60, 890, 130, 670, 110])"
      ]
     },
     "execution_count": 112,
     "metadata": {},
     "output_type": "execute_result"
    }
   ],
   "source": [
    "arr * 10"
   ]
  },
  {
   "cell_type": "code",
   "execution_count": 113,
   "id": "d4b40dc6",
   "metadata": {},
   "outputs": [
    {
     "data": {
      "text/plain": [
       "array([3.4, 0.6, 8.9, 1.3, 6.7, 1.1])"
      ]
     },
     "execution_count": 113,
     "metadata": {},
     "output_type": "execute_result"
    }
   ],
   "source": [
    "arr / 10"
   ]
  },
  {
   "cell_type": "code",
   "execution_count": 5,
   "id": "42555483",
   "metadata": {},
   "outputs": [
    {
     "data": {
      "text/plain": [
       "array([4, 6, 9, 3, 7, 1], dtype=int32)"
      ]
     },
     "execution_count": 5,
     "metadata": {},
     "output_type": "execute_result"
    }
   ],
   "source": [
    "arr % 10"
   ]
  },
  {
   "cell_type": "code",
   "execution_count": 115,
   "id": "3c1316d4",
   "metadata": {},
   "outputs": [
    {
     "data": {
      "text/plain": [
       "array([ 1723237376,    60466176, -2024127311,   419538377,  1333128745,\n",
       "         167620825], dtype=int32)"
      ]
     },
     "execution_count": 115,
     "metadata": {},
     "output_type": "execute_result"
    }
   ],
   "source": [
    "arr ** 10"
   ]
  },
  {
   "cell_type": "raw",
   "id": "cea29d87",
   "metadata": {},
   "source": [
    "Note: Similarly, the same works for hgher dimensional arrays."
   ]
  },
  {
   "cell_type": "markdown",
   "id": "e00f7061",
   "metadata": {},
   "source": [
    "#### 1.6.1 Arithmetic operations"
   ]
  },
  {
   "cell_type": "code",
   "execution_count": 58,
   "id": "40df026e",
   "metadata": {},
   "outputs": [],
   "source": [
    "# For performing these operations arrays must be of same shape.\n",
    "# Can be performed on any number of arrays.\n",
    "arr1 = np.array([34, 12, 7, 10, 3])\n",
    "arr2 = np.array([-4, 5, 67, 2, 11])"
   ]
  },
  {
   "cell_type": "code",
   "execution_count": 14,
   "id": "0cb6c0eb",
   "metadata": {},
   "outputs": [
    {
     "name": "stdout",
     "output_type": "stream",
     "text": [
      "[30 17 74 12 14]\n",
      "[30 17 74 12 14]\n"
     ]
    }
   ],
   "source": [
    "# Addition\n",
    "print(np.add(arr1, arr2))\n",
    "print(arr1 + arr2)"
   ]
  },
  {
   "cell_type": "code",
   "execution_count": 15,
   "id": "95d391bf",
   "metadata": {},
   "outputs": [
    {
     "name": "stdout",
     "output_type": "stream",
     "text": [
      "[ 38   7 -60   8  -8]\n",
      "[ 38   7 -60   8  -8]\n"
     ]
    }
   ],
   "source": [
    "# Subtraction\n",
    "print(np.subtract(arr1, arr2))\n",
    "print(arr1 - arr2)"
   ]
  },
  {
   "cell_type": "code",
   "execution_count": 16,
   "id": "6c59cfdc",
   "metadata": {},
   "outputs": [
    {
     "name": "stdout",
     "output_type": "stream",
     "text": [
      "[-136   60  469   20   33]\n",
      "[-136   60  469   20   33]\n"
     ]
    }
   ],
   "source": [
    "# Multiplication\n",
    "print(np.multiply(arr1, arr2))\n",
    "print(arr1 * arr2)"
   ]
  },
  {
   "cell_type": "code",
   "execution_count": 17,
   "id": "1da8f73e",
   "metadata": {},
   "outputs": [
    {
     "name": "stdout",
     "output_type": "stream",
     "text": [
      "[-8.5         2.4         0.10447761  5.          0.27272727]\n",
      "[-8.5         2.4         0.10447761  5.          0.27272727]\n"
     ]
    }
   ],
   "source": [
    "# Division\n",
    "print(np.divide(arr1, arr2))\n",
    "print(arr1 / arr2)"
   ]
  },
  {
   "cell_type": "code",
   "execution_count": 18,
   "id": "1444aedc",
   "metadata": {},
   "outputs": [
    {
     "name": "stdout",
     "output_type": "stream",
     "text": [
      "[1156  144   49  100    9]\n",
      "[1156  144   49  100    9]\n"
     ]
    }
   ],
   "source": [
    "# Exponentiation\n",
    "print(np.power(arr1, 2))\n",
    "print(arr1 ** 2)"
   ]
  },
  {
   "cell_type": "code",
   "execution_count": 19,
   "id": "2fb3809e",
   "metadata": {},
   "outputs": [
    {
     "name": "stdout",
     "output_type": "stream",
     "text": [
      "[-2  2  7  0  3]\n",
      "[-2  2  7  0  3]\n"
     ]
    }
   ],
   "source": [
    "# Modulo\n",
    "print(np.mod(arr1, arr2))\n",
    "print(arr1 % arr2)"
   ]
  },
  {
   "cell_type": "code",
   "execution_count": 135,
   "id": "9919c58c",
   "metadata": {},
   "outputs": [
    {
     "data": {
      "text/plain": [
       "array([[ 5, 10, 15],\n",
       "       [15, 20, 25]])"
      ]
     },
     "execution_count": 135,
     "metadata": {},
     "output_type": "execute_result"
    }
   ],
   "source": [
    "arr1 = np.array([[1, 2, 3], [3, 4, 5]])\n",
    "arr2 = np.array([[1, 2, 3], [3, 4, 5]])\n",
    "arr3 = np.array([[1, 2, 3], [3, 4, 5]])\n",
    "arr4 = np.array([[1, 2, 3], [3, 4, 5]])\n",
    "arr5 = np.array([[1, 2, 3], [3, 4, 5]])\n",
    "\n",
    "arr1 + arr2 + arr3 + arr4 + arr5"
   ]
  },
  {
   "cell_type": "code",
   "execution_count": 20,
   "id": "a51cf4ed",
   "metadata": {},
   "outputs": [
    {
     "data": {
      "text/plain": [
       "array([5.83095189, 3.46410162, 2.64575131, 3.16227766, 1.73205081])"
      ]
     },
     "execution_count": 20,
     "metadata": {},
     "output_type": "execute_result"
    }
   ],
   "source": [
    "# Square root\n",
    "np.sqrt(arr1)"
   ]
  },
  {
   "cell_type": "code",
   "execution_count": 59,
   "id": "34a4062f",
   "metadata": {},
   "outputs": [
    {
     "data": {
      "text/plain": [
       "array([3.2396118 , 2.28942849, 1.91293118, 2.15443469, 1.44224957])"
      ]
     },
     "execution_count": 59,
     "metadata": {},
     "output_type": "execute_result"
    }
   ],
   "source": [
    "# Cube root\n",
    "np.cbrt(arr1)"
   ]
  },
  {
   "cell_type": "code",
   "execution_count": 22,
   "id": "6e718ed5",
   "metadata": {},
   "outputs": [
    {
     "data": {
      "text/plain": [
       "array([12, 32, 78, 45, 27])"
      ]
     },
     "execution_count": 22,
     "metadata": {},
     "output_type": "execute_result"
    }
   ],
   "source": [
    "# Absolute value\n",
    "arr = np.array([12, 32, 78, -45, 0 -27])\n",
    "np.abs(arr)"
   ]
  },
  {
   "cell_type": "code",
   "execution_count": 23,
   "id": "66ef207f",
   "metadata": {},
   "outputs": [
    {
     "data": {
      "text/plain": [
       "array([-12, -32, -78,  45,  27])"
      ]
     },
     "execution_count": 23,
     "metadata": {},
     "output_type": "execute_result"
    }
   ],
   "source": [
    "# Negative value i.e it performs negation (sign change)\n",
    "np.negative(arr)"
   ]
  },
  {
   "cell_type": "markdown",
   "id": "e2f6f07d",
   "metadata": {},
   "source": [
    "#### 1.6.2 Trignometric Functions"
   ]
  },
  {
   "cell_type": "code",
   "execution_count": 24,
   "id": "838d5b8a",
   "metadata": {},
   "outputs": [
    {
     "data": {
      "text/plain": [
       "array([ 12,  32,  78, -45, -27])"
      ]
     },
     "execution_count": 24,
     "metadata": {},
     "output_type": "execute_result"
    }
   ],
   "source": [
    "arr"
   ]
  },
  {
   "cell_type": "code",
   "execution_count": 25,
   "id": "c9fb4497",
   "metadata": {},
   "outputs": [
    {
     "data": {
      "text/plain": [
       "array([-0.53657292,  0.55142668,  0.51397846, -0.85090352, -0.95637593])"
      ]
     },
     "execution_count": 25,
     "metadata": {},
     "output_type": "execute_result"
    }
   ],
   "source": [
    "#Sine\n",
    "np.sin(arr)"
   ]
  },
  {
   "cell_type": "code",
   "execution_count": 26,
   "id": "a4f954e5",
   "metadata": {},
   "outputs": [
    {
     "data": {
      "text/plain": [
       "array([ 0.84385396,  0.83422336, -0.85780309,  0.52532199, -0.29213881])"
      ]
     },
     "execution_count": 26,
     "metadata": {},
     "output_type": "execute_result"
    }
   ],
   "source": [
    "# Cosine\n",
    "np.cos(arr)"
   ]
  },
  {
   "cell_type": "code",
   "execution_count": 27,
   "id": "0a1be27c",
   "metadata": {},
   "outputs": [
    {
     "data": {
      "text/plain": [
       "array([-0.63585993,  0.66100604, -0.59918   , -1.61977519,  3.2737038 ])"
      ]
     },
     "execution_count": 27,
     "metadata": {},
     "output_type": "execute_result"
    }
   ],
   "source": [
    "# Tangent\n",
    "np.tan(arr)"
   ]
  },
  {
   "cell_type": "code",
   "execution_count": 28,
   "id": "6bff8503",
   "metadata": {},
   "outputs": [
    {
     "name": "stderr",
     "output_type": "stream",
     "text": [
      "C:\\Users\\User\\AppData\\Local\\Temp\\ipykernel_5080\\520965174.py:2: RuntimeWarning: invalid value encountered in arcsin\n",
      "  np.arcsin(arr)\n"
     ]
    },
    {
     "data": {
      "text/plain": [
       "array([nan, nan, nan, nan, nan])"
      ]
     },
     "execution_count": 28,
     "metadata": {},
     "output_type": "execute_result"
    }
   ],
   "source": [
    "# Inverse sine\n",
    "np.arcsin(arr)"
   ]
  },
  {
   "cell_type": "code",
   "execution_count": 29,
   "id": "e9f55432",
   "metadata": {},
   "outputs": [
    {
     "name": "stderr",
     "output_type": "stream",
     "text": [
      "C:\\Users\\User\\AppData\\Local\\Temp\\ipykernel_5080\\339456621.py:2: RuntimeWarning: invalid value encountered in arccos\n",
      "  np.arccos(arr)\n"
     ]
    },
    {
     "data": {
      "text/plain": [
       "array([nan, nan, nan, nan, nan])"
      ]
     },
     "execution_count": 29,
     "metadata": {},
     "output_type": "execute_result"
    }
   ],
   "source": [
    "# Inverse cosine\n",
    "np.arccos(arr)"
   ]
  },
  {
   "cell_type": "code",
   "execution_count": 30,
   "id": "a13cc6dd",
   "metadata": {},
   "outputs": [
    {
     "data": {
      "text/plain": [
       "array([ 1.48765509,  1.53955649,  1.55797652, -1.54857776, -1.53377621])"
      ]
     },
     "execution_count": 30,
     "metadata": {},
     "output_type": "execute_result"
    }
   ],
   "source": [
    "# Inverse tangent\n",
    "np.arctan(arr)"
   ]
  },
  {
   "cell_type": "markdown",
   "id": "3caf3791",
   "metadata": {},
   "source": [
    "#### 1.6.3 Exponential and logarithmic functions"
   ]
  },
  {
   "cell_type": "code",
   "execution_count": 36,
   "id": "1436bae6",
   "metadata": {},
   "outputs": [
    {
     "data": {
      "text/plain": [
       "array([ 12,  32,  78,   0, -27])"
      ]
     },
     "execution_count": 36,
     "metadata": {},
     "output_type": "execute_result"
    }
   ],
   "source": [
    "arr[3] = 0\n",
    "arr"
   ]
  },
  {
   "cell_type": "code",
   "execution_count": 37,
   "id": "ae74d85e",
   "metadata": {},
   "outputs": [
    {
     "data": {
      "text/plain": [
       "array([1.62754791e+05, 7.89629602e+13, 7.49841700e+33, 1.00000000e+00,\n",
       "       1.87952882e-12])"
      ]
     },
     "execution_count": 37,
     "metadata": {},
     "output_type": "execute_result"
    }
   ],
   "source": [
    "#Exponential \n",
    "np.exp(arr)"
   ]
  },
  {
   "cell_type": "code",
   "execution_count": 38,
   "id": "144fa8c2",
   "metadata": {},
   "outputs": [
    {
     "name": "stderr",
     "output_type": "stream",
     "text": [
      "C:\\Users\\User\\AppData\\Local\\Temp\\ipykernel_5080\\286491332.py:2: RuntimeWarning: divide by zero encountered in log\n",
      "  np.log(arr)\n",
      "C:\\Users\\User\\AppData\\Local\\Temp\\ipykernel_5080\\286491332.py:2: RuntimeWarning: invalid value encountered in log\n",
      "  np.log(arr)\n"
     ]
    },
    {
     "data": {
      "text/plain": [
       "array([2.48490665, 3.4657359 , 4.35670883,       -inf,        nan])"
      ]
     },
     "execution_count": 38,
     "metadata": {},
     "output_type": "execute_result"
    }
   ],
   "source": [
    "#Natural logarithm i.e log to the base e\n",
    "np.log(arr)"
   ]
  },
  {
   "cell_type": "code",
   "execution_count": 39,
   "id": "b99f59db",
   "metadata": {},
   "outputs": [
    {
     "name": "stderr",
     "output_type": "stream",
     "text": [
      "C:\\Users\\User\\AppData\\Local\\Temp\\ipykernel_5080\\3364299638.py:2: RuntimeWarning: divide by zero encountered in log10\n",
      "  np.log10(arr)\n",
      "C:\\Users\\User\\AppData\\Local\\Temp\\ipykernel_5080\\3364299638.py:2: RuntimeWarning: invalid value encountered in log10\n",
      "  np.log10(arr)\n"
     ]
    },
    {
     "data": {
      "text/plain": [
       "array([1.07918125, 1.50514998, 1.8920946 ,       -inf,        nan])"
      ]
     },
     "execution_count": 39,
     "metadata": {},
     "output_type": "execute_result"
    }
   ],
   "source": [
    "#Base 10 logarithm \n",
    "np.log10(arr)"
   ]
  },
  {
   "cell_type": "code",
   "execution_count": 40,
   "id": "73de8e82",
   "metadata": {},
   "outputs": [
    {
     "name": "stderr",
     "output_type": "stream",
     "text": [
      "C:\\Users\\User\\AppData\\Local\\Temp\\ipykernel_5080\\1358989749.py:2: RuntimeWarning: divide by zero encountered in log2\n",
      "  np.log2(arr)\n",
      "C:\\Users\\User\\AppData\\Local\\Temp\\ipykernel_5080\\1358989749.py:2: RuntimeWarning: invalid value encountered in log2\n",
      "  np.log2(arr)\n"
     ]
    },
    {
     "data": {
      "text/plain": [
       "array([3.5849625 , 5.        , 6.28540222,       -inf,        nan])"
      ]
     },
     "execution_count": 40,
     "metadata": {},
     "output_type": "execute_result"
    }
   ],
   "source": [
    "#Base 2 logarithm \n",
    "np.log2(arr)"
   ]
  },
  {
   "cell_type": "markdown",
   "id": "59093b65",
   "metadata": {},
   "source": [
    "#### 1.6.4 Rounding and floor/ceiling functions"
   ]
  },
  {
   "cell_type": "code",
   "execution_count": 54,
   "id": "b3a4e142",
   "metadata": {},
   "outputs": [],
   "source": [
    "arr = np.array([12.345, 56.38, -0.67, 0.0023, 23.9845])"
   ]
  },
  {
   "cell_type": "code",
   "execution_count": 56,
   "id": "92d9d423",
   "metadata": {},
   "outputs": [
    {
     "data": {
      "text/plain": [
       "array([12., 56., -1.,  0., 24.])"
      ]
     },
     "execution_count": 56,
     "metadata": {},
     "output_type": "execute_result"
    }
   ],
   "source": [
    "# Round to nearest integer\n",
    "np.round(arr)"
   ]
  },
  {
   "cell_type": "code",
   "execution_count": 57,
   "id": "b87face9",
   "metadata": {},
   "outputs": [
    {
     "data": {
      "text/plain": [
       "array([12.34, 56.38, -0.67,  0.  , 23.98])"
      ]
     },
     "execution_count": 57,
     "metadata": {},
     "output_type": "execute_result"
    }
   ],
   "source": [
    "# Round with specified number of decimals\n",
    "np.round(arr, 2)"
   ]
  },
  {
   "cell_type": "code",
   "execution_count": 44,
   "id": "881d010d",
   "metadata": {},
   "outputs": [
    {
     "data": {
      "text/plain": [
       "array([13., 57., -0.,  1., 24.])"
      ]
     },
     "execution_count": 44,
     "metadata": {},
     "output_type": "execute_result"
    }
   ],
   "source": [
    "# Round up\n",
    "np.ceil(arr)"
   ]
  },
  {
   "cell_type": "code",
   "execution_count": 45,
   "id": "2c2182ee",
   "metadata": {},
   "outputs": [
    {
     "data": {
      "text/plain": [
       "array([12., 56., -1.,  0., 23.])"
      ]
     },
     "execution_count": 45,
     "metadata": {},
     "output_type": "execute_result"
    }
   ],
   "source": [
    "# Round down\n",
    "np.floor(arr)"
   ]
  },
  {
   "cell_type": "code",
   "execution_count": 46,
   "id": "49ba316b",
   "metadata": {},
   "outputs": [
    {
     "data": {
      "text/plain": [
       "array([12., 56., -0.,  0., 23.])"
      ]
     },
     "execution_count": 46,
     "metadata": {},
     "output_type": "execute_result"
    }
   ],
   "source": [
    "# Truncate decimal places\n",
    "np.trunc(arr)"
   ]
  },
  {
   "cell_type": "markdown",
   "id": "59eec338",
   "metadata": {},
   "source": [
    "#### 1.6.5 Statistical functions"
   ]
  },
  {
   "cell_type": "code",
   "execution_count": 47,
   "id": "2ec283ea",
   "metadata": {},
   "outputs": [],
   "source": [
    "arr = np.array([ 12,  32,  78,   0, -27])"
   ]
  },
  {
   "cell_type": "code",
   "execution_count": 48,
   "id": "cb85d033",
   "metadata": {},
   "outputs": [
    {
     "data": {
      "text/plain": [
       "19.0"
      ]
     },
     "execution_count": 48,
     "metadata": {},
     "output_type": "execute_result"
    }
   ],
   "source": [
    "# Mean: \n",
    "np.mean(arr)"
   ]
  },
  {
   "cell_type": "code",
   "execution_count": 49,
   "id": "e3574f51",
   "metadata": {},
   "outputs": [
    {
     "data": {
      "text/plain": [
       "12.0"
      ]
     },
     "execution_count": 49,
     "metadata": {},
     "output_type": "execute_result"
    }
   ],
   "source": [
    "# Median: \n",
    "np.median(arr)"
   ]
  },
  {
   "cell_type": "code",
   "execution_count": 50,
   "id": "88ab4c80",
   "metadata": {},
   "outputs": [
    {
     "data": {
      "text/plain": [
       "35.14541221838208"
      ]
     },
     "execution_count": 50,
     "metadata": {},
     "output_type": "execute_result"
    }
   ],
   "source": [
    "# Standard deviation: \n",
    "np.std(arr)"
   ]
  },
  {
   "cell_type": "code",
   "execution_count": 51,
   "id": "51c9606d",
   "metadata": {},
   "outputs": [
    {
     "data": {
      "text/plain": [
       "1235.2"
      ]
     },
     "execution_count": 51,
     "metadata": {},
     "output_type": "execute_result"
    }
   ],
   "source": [
    "# Variance: \n",
    "np.var(arr)"
   ]
  },
  {
   "cell_type": "code",
   "execution_count": 52,
   "id": "44285755",
   "metadata": {},
   "outputs": [
    {
     "data": {
      "text/plain": [
       "78"
      ]
     },
     "execution_count": 52,
     "metadata": {},
     "output_type": "execute_result"
    }
   ],
   "source": [
    "# Maximum value: \n",
    "np.max(arr)"
   ]
  },
  {
   "cell_type": "code",
   "execution_count": 53,
   "id": "f38ea963",
   "metadata": {},
   "outputs": [
    {
     "data": {
      "text/plain": [
       "-27"
      ]
     },
     "execution_count": 53,
     "metadata": {},
     "output_type": "execute_result"
    }
   ],
   "source": [
    "# Minimum value: \n",
    "np.min(arr)"
   ]
  },
  {
   "cell_type": "markdown",
   "id": "bd769f3e",
   "metadata": {},
   "source": [
    "#### 1.6.6 Bit-wise operations"
   ]
  },
  {
   "cell_type": "code",
   "execution_count": 60,
   "id": "4b5a4da4",
   "metadata": {},
   "outputs": [],
   "source": [
    "arr1 = np.array([34, 12, 7, 10, 3])\n",
    "arr2 = np.array([-4, 5, 67, 2, 11])"
   ]
  },
  {
   "cell_type": "code",
   "execution_count": 61,
   "id": "a17aed36",
   "metadata": {},
   "outputs": [
    {
     "data": {
      "text/plain": [
       "array([32,  4,  3,  2,  3])"
      ]
     },
     "execution_count": 61,
     "metadata": {},
     "output_type": "execute_result"
    }
   ],
   "source": [
    "# Bit-wise AND: \n",
    "np.bitwise_and(arr1, arr2)"
   ]
  },
  {
   "cell_type": "code",
   "execution_count": 62,
   "id": "1cf629d0",
   "metadata": {},
   "outputs": [
    {
     "data": {
      "text/plain": [
       "array([-2, 13, 71, 10, 11])"
      ]
     },
     "execution_count": 62,
     "metadata": {},
     "output_type": "execute_result"
    }
   ],
   "source": [
    "# Bit-wise OR: \n",
    "np.bitwise_or(arr1, arr2)"
   ]
  },
  {
   "cell_type": "code",
   "execution_count": 63,
   "id": "56a8f691",
   "metadata": {},
   "outputs": [
    {
     "data": {
      "text/plain": [
       "array([-34,   9,  68,   8,   8])"
      ]
     },
     "execution_count": 63,
     "metadata": {},
     "output_type": "execute_result"
    }
   ],
   "source": [
    "# Bit-wise XOR: \n",
    "np.bitwise_xor(arr1, arr2)"
   ]
  },
  {
   "cell_type": "code",
   "execution_count": 65,
   "id": "16e3d866",
   "metadata": {},
   "outputs": [
    {
     "data": {
      "text/plain": [
       "array([-35, -13,  -8, -11,  -4])"
      ]
     },
     "execution_count": 65,
     "metadata": {},
     "output_type": "execute_result"
    }
   ],
   "source": [
    "# Bit-wise NOT: \n",
    "np.bitwise_not(arr1)"
   ]
  },
  {
   "cell_type": "markdown",
   "id": "1c124429",
   "metadata": {},
   "source": [
    "#### 1.6.7 Comparison functions"
   ]
  },
  {
   "cell_type": "code",
   "execution_count": 68,
   "id": "71c90cb1",
   "metadata": {},
   "outputs": [],
   "source": [
    "arr1 = np.array([34, 12, 7, 10, 3])\n",
    "arr2 = np.array([-4, 5, 67, 2, 11])"
   ]
  },
  {
   "cell_type": "markdown",
   "id": "4085ae04",
   "metadata": {},
   "source": [
    "##### Elementwise comparison"
   ]
  },
  {
   "cell_type": "code",
   "execution_count": 67,
   "id": "ba9fe735",
   "metadata": {},
   "outputs": [
    {
     "data": {
      "text/plain": [
       "array([False, False, False, False, False])"
      ]
     },
     "execution_count": 67,
     "metadata": {},
     "output_type": "execute_result"
    }
   ],
   "source": [
    "np.equal(arr1, arr2)"
   ]
  },
  {
   "cell_type": "code",
   "execution_count": 69,
   "id": "fecfb320",
   "metadata": {},
   "outputs": [
    {
     "data": {
      "text/plain": [
       "array([ True,  True,  True,  True,  True])"
      ]
     },
     "execution_count": 69,
     "metadata": {},
     "output_type": "execute_result"
    }
   ],
   "source": [
    "np.not_equal(arr1, arr2)"
   ]
  },
  {
   "cell_type": "code",
   "execution_count": 70,
   "id": "4946e8ec",
   "metadata": {},
   "outputs": [
    {
     "data": {
      "text/plain": [
       "array([False, False,  True, False,  True])"
      ]
     },
     "execution_count": 70,
     "metadata": {},
     "output_type": "execute_result"
    }
   ],
   "source": [
    "np.less(arr1, arr2)"
   ]
  },
  {
   "cell_type": "code",
   "execution_count": 71,
   "id": "0936e39e",
   "metadata": {},
   "outputs": [
    {
     "data": {
      "text/plain": [
       "array([False, False,  True, False,  True])"
      ]
     },
     "execution_count": 71,
     "metadata": {},
     "output_type": "execute_result"
    }
   ],
   "source": [
    "np.less_equal(arr1, arr2)"
   ]
  },
  {
   "cell_type": "code",
   "execution_count": 72,
   "id": "54a966f8",
   "metadata": {},
   "outputs": [
    {
     "data": {
      "text/plain": [
       "array([ True,  True, False,  True, False])"
      ]
     },
     "execution_count": 72,
     "metadata": {},
     "output_type": "execute_result"
    }
   ],
   "source": [
    "np.greater(arr1, arr2)"
   ]
  },
  {
   "cell_type": "code",
   "execution_count": 73,
   "id": "fc2b8b9c",
   "metadata": {},
   "outputs": [
    {
     "data": {
      "text/plain": [
       "array([ True,  True, False,  True, False])"
      ]
     },
     "execution_count": 73,
     "metadata": {},
     "output_type": "execute_result"
    }
   ],
   "source": [
    "np.greater_equal(arr1, arr2)"
   ]
  },
  {
   "cell_type": "code",
   "execution_count": 74,
   "id": "a722eab9",
   "metadata": {},
   "outputs": [
    {
     "data": {
      "text/plain": [
       "array([ True,  True,  True,  True,  True])"
      ]
     },
     "execution_count": 74,
     "metadata": {},
     "output_type": "execute_result"
    }
   ],
   "source": [
    "# Logical AND: \n",
    "np.logical_and(arr1, arr2)"
   ]
  },
  {
   "cell_type": "code",
   "execution_count": 75,
   "id": "29cff3af",
   "metadata": {},
   "outputs": [
    {
     "data": {
      "text/plain": [
       "array([ True,  True,  True,  True,  True])"
      ]
     },
     "execution_count": 75,
     "metadata": {},
     "output_type": "execute_result"
    }
   ],
   "source": [
    "# Logical OR: \n",
    "np.logical_or(arr1, arr2)"
   ]
  },
  {
   "cell_type": "code",
   "execution_count": 76,
   "id": "f34b7862",
   "metadata": {},
   "outputs": [
    {
     "data": {
      "text/plain": [
       "array([False, False, False, False, False])"
      ]
     },
     "execution_count": 76,
     "metadata": {},
     "output_type": "execute_result"
    }
   ],
   "source": [
    "# Logical XOR: \n",
    "np.logical_xor(arr1, arr2)"
   ]
  },
  {
   "cell_type": "code",
   "execution_count": 78,
   "id": "6053dac1",
   "metadata": {},
   "outputs": [
    {
     "data": {
      "text/plain": [
       "array([False, False, False, False, False])"
      ]
     },
     "execution_count": 78,
     "metadata": {},
     "output_type": "execute_result"
    }
   ],
   "source": [
    "# Logical NOT: \n",
    "np.logical_not(arr1)"
   ]
  },
  {
   "cell_type": "markdown",
   "id": "245ad990",
   "metadata": {},
   "source": [
    "#### 1.6.8 Linear algebra functions"
   ]
  },
  {
   "cell_type": "code",
   "execution_count": 83,
   "id": "07e2c02b",
   "metadata": {},
   "outputs": [],
   "source": [
    "arr1 = np.array([[2, 3, 4], \n",
    "                 [5, 6, 7]])"
   ]
  },
  {
   "cell_type": "code",
   "execution_count": 84,
   "id": "875a643a",
   "metadata": {},
   "outputs": [],
   "source": [
    "arr2 = np.array([[3, 4], \n",
    "                 [6, 7],\n",
    "                 [6, 7]])"
   ]
  },
  {
   "cell_type": "code",
   "execution_count": 85,
   "id": "5d351e1b",
   "metadata": {},
   "outputs": [
    {
     "data": {
      "text/plain": [
       "array([[ 48,  57],\n",
       "       [ 93, 111]])"
      ]
     },
     "execution_count": 85,
     "metadata": {},
     "output_type": "execute_result"
    }
   ],
   "source": [
    "#Matrix multiplication \n",
    "#For matrix multiplication col of 1st matrix and row of 2nd matrix should be same.\n",
    "arr1 @ arr2"
   ]
  },
  {
   "cell_type": "code",
   "execution_count": 86,
   "id": "b9b5f2b0",
   "metadata": {},
   "outputs": [
    {
     "data": {
      "text/plain": [
       "array([[26, 33, 40],\n",
       "       [47, 60, 73],\n",
       "       [47, 60, 73]])"
      ]
     },
     "execution_count": 86,
     "metadata": {},
     "output_type": "execute_result"
    }
   ],
   "source": [
    "arr2 @ arr1"
   ]
  },
  {
   "cell_type": "code",
   "execution_count": 87,
   "id": "f1c9badc",
   "metadata": {},
   "outputs": [
    {
     "data": {
      "text/plain": [
       "array([[ 48,  57],\n",
       "       [ 93, 111]])"
      ]
     },
     "execution_count": 87,
     "metadata": {},
     "output_type": "execute_result"
    }
   ],
   "source": [
    "np.matmul(arr1, arr2) #same as arr1 @ arr2"
   ]
  },
  {
   "cell_type": "code",
   "execution_count": 88,
   "id": "de10f55b",
   "metadata": {},
   "outputs": [
    {
     "data": {
      "text/plain": [
       "array([[ 48,  57],\n",
       "       [ 93, 111]])"
      ]
     },
     "execution_count": 88,
     "metadata": {},
     "output_type": "execute_result"
    }
   ],
   "source": [
    "# Dot product: \n",
    "np.dot(arr1, arr2)"
   ]
  },
  {
   "cell_type": "code",
   "execution_count": 98,
   "id": "ecc4eb3a",
   "metadata": {},
   "outputs": [
    {
     "data": {
      "text/plain": [
       "array([[-26,  12,   4],\n",
       "       [  4, -15,  10]])"
      ]
     },
     "execution_count": 98,
     "metadata": {},
     "output_type": "execute_result"
    }
   ],
   "source": [
    "#Cross product:\n",
    "'''Note:\n",
    "In cross product, for 1D array, shape should be (3,), and\n",
    "for 2D array, shape should be (N, 3)\n",
    "'''\n",
    "arr3 = np.array([[2, 5, -2], \n",
    "                 [0, 2, 3]])\n",
    "np.cross(arr1, arr3)"
   ]
  },
  {
   "cell_type": "code",
   "execution_count": 91,
   "id": "0df35db0",
   "metadata": {},
   "outputs": [],
   "source": [
    "#Determinant is always a square matrix\n",
    "arr = np.array([[2,3, 5],\n",
    "                [5, 2, 0],\n",
    "                [1, -4, 2]])"
   ]
  },
  {
   "cell_type": "code",
   "execution_count": 92,
   "id": "3c60fcba",
   "metadata": {},
   "outputs": [
    {
     "data": {
      "text/plain": [
       "-131.99999999999997"
      ]
     },
     "execution_count": 92,
     "metadata": {},
     "output_type": "execute_result"
    }
   ],
   "source": [
    "#Determinant\n",
    "np.linalg.det(arr)"
   ]
  },
  {
   "cell_type": "code",
   "execution_count": 93,
   "id": "f034e7eb",
   "metadata": {},
   "outputs": [
    {
     "data": {
      "text/plain": [
       "array([-4.04503859+0.j       ,  5.0225193 +2.7215563j,\n",
       "        5.0225193 -2.7215563j])"
      ]
     },
     "execution_count": 93,
     "metadata": {},
     "output_type": "execute_result"
    }
   ],
   "source": [
    "#Eigenvalues: \n",
    "np.linalg.eigvals(arr)"
   ]
  },
  {
   "cell_type": "code",
   "execution_count": 94,
   "id": "d21fe809",
   "metadata": {},
   "outputs": [
    {
     "data": {
      "text/plain": [
       "array([[-0.03030303,  0.1969697 ,  0.07575758],\n",
       "       [ 0.07575758,  0.00757576, -0.18939394],\n",
       "       [ 0.16666667, -0.08333333,  0.08333333]])"
      ]
     },
     "execution_count": 94,
     "metadata": {},
     "output_type": "execute_result"
    }
   ],
   "source": [
    "#Matrix inverse: \n",
    "np.linalg.inv(arr)"
   ]
  },
  {
   "cell_type": "code",
   "execution_count": 95,
   "id": "ac699399",
   "metadata": {},
   "outputs": [
    {
     "data": {
      "text/plain": [
       "(array([[-0.79285756,  0.30151134,  0.52959211],\n",
       "        [-0.60622325, -0.30151134, -0.7359241 ],\n",
       "        [ 0.06221144,  0.90453403, -0.42183874]]),\n",
       " array([7.08757278, 4.69041576, 3.97068156]),\n",
       " array([[-0.64262055, -0.54177432, -0.54177432],\n",
       "        [ 0.        , -0.70710678,  0.70710678],\n",
       "        [-0.76618459,  0.45440135,  0.45440135]]))"
      ]
     },
     "execution_count": 95,
     "metadata": {},
     "output_type": "execute_result"
    }
   ],
   "source": [
    "# Singular Value Decomposition: \n",
    "np.linalg.svd(arr)"
   ]
  },
  {
   "cell_type": "markdown",
   "id": "34f0eafa",
   "metadata": {},
   "source": [
    "### 1.7 Reorganizing arrays"
   ]
  },
  {
   "cell_type": "markdown",
   "id": "917a3541",
   "metadata": {},
   "source": [
    "#### 1.7.1 Reshaping"
   ]
  },
  {
   "cell_type": "code",
   "execution_count": 2,
   "id": "3c49adad",
   "metadata": {},
   "outputs": [],
   "source": [
    "# reshape()\n",
    "#Reshapes array and returns it\n",
    "arr = np.array([34, 56, 12, 0, -3, -45, 23, 99])"
   ]
  },
  {
   "cell_type": "code",
   "execution_count": 102,
   "id": "37651cb3",
   "metadata": {},
   "outputs": [
    {
     "data": {
      "text/plain": [
       "array([[ 34,  56],\n",
       "       [ 12,   0],\n",
       "       [ -3, -45],\n",
       "       [ 23,  99]])"
      ]
     },
     "execution_count": 102,
     "metadata": {},
     "output_type": "execute_result"
    }
   ],
   "source": [
    "arr.reshape(4, 2)"
   ]
  },
  {
   "cell_type": "code",
   "execution_count": 104,
   "id": "6c82abe3",
   "metadata": {},
   "outputs": [
    {
     "data": {
      "text/plain": [
       "array([[[ 34,  56],\n",
       "        [ 12,   0]],\n",
       "\n",
       "       [[ -3, -45],\n",
       "        [ 23,  99]]])"
      ]
     },
     "execution_count": 104,
     "metadata": {},
     "output_type": "execute_result"
    }
   ],
   "source": [
    "arr.reshape(2,2,2)"
   ]
  },
  {
   "cell_type": "code",
   "execution_count": 1,
   "id": "5a86cba4",
   "metadata": {},
   "outputs": [],
   "source": [
    "import numpy as np"
   ]
  },
  {
   "cell_type": "code",
   "execution_count": 4,
   "id": "20055f12",
   "metadata": {},
   "outputs": [
    {
     "data": {
      "text/plain": [
       "array([[[ 34,  56],\n",
       "        [ 12,   0]],\n",
       "\n",
       "       [[ -3, -45],\n",
       "        [ 23,  99]]])"
      ]
     },
     "execution_count": 4,
     "metadata": {},
     "output_type": "execute_result"
    }
   ],
   "source": [
    "#Unknown dimension\n",
    "#reshape() allows to have one unknown dimension, in which it will calculate the suitable balue by itself.\n",
    "#unknown dimension is specified by -1.\n",
    "arr.reshape(2, 2, -1) # It calculates that -1 as 2."
   ]
  },
  {
   "cell_type": "code",
   "execution_count": 105,
   "id": "70168b54",
   "metadata": {},
   "outputs": [
    {
     "data": {
      "text/plain": [
       "array([ 34,  56,  12,   0,  -3, -45,  23,  99])"
      ]
     },
     "execution_count": 105,
     "metadata": {},
     "output_type": "execute_result"
    }
   ],
   "source": [
    "arr"
   ]
  },
  {
   "cell_type": "code",
   "execution_count": 106,
   "id": "2665b962",
   "metadata": {},
   "outputs": [],
   "source": [
    "# resize()\n",
    "# Same as reshape() but reshapes original array\n",
    "arr.resize(2, 2, 2)"
   ]
  },
  {
   "cell_type": "code",
   "execution_count": 107,
   "id": "55781c0e",
   "metadata": {},
   "outputs": [
    {
     "data": {
      "text/plain": [
       "array([[[ 34,  56],\n",
       "        [ 12,   0]],\n",
       "\n",
       "       [[ -3, -45],\n",
       "        [ 23,  99]]])"
      ]
     },
     "execution_count": 107,
     "metadata": {},
     "output_type": "execute_result"
    }
   ],
   "source": [
    "arr"
   ]
  },
  {
   "cell_type": "code",
   "execution_count": 108,
   "id": "77e8ffd2",
   "metadata": {},
   "outputs": [
    {
     "data": {
      "text/plain": [
       "array([ 34,  56,  12,   0,  -3, -45,  23,  99])"
      ]
     },
     "execution_count": 108,
     "metadata": {},
     "output_type": "execute_result"
    }
   ],
   "source": [
    "#flatten()\n",
    "# Converts multi-dimensional array into 1D array\n",
    "# Does not modify original array\n",
    "arr.flatten()"
   ]
  },
  {
   "cell_type": "markdown",
   "id": "7869d587",
   "metadata": {},
   "source": [
    "#### 1.7.2 Transposing"
   ]
  },
  {
   "cell_type": "code",
   "execution_count": 111,
   "id": "519f83b0",
   "metadata": {},
   "outputs": [],
   "source": [
    "arr = np.array([[ 34,  56, 8],\n",
    "                [ 12,   0, 5]])"
   ]
  },
  {
   "cell_type": "code",
   "execution_count": 113,
   "id": "ca8b4b93",
   "metadata": {},
   "outputs": [
    {
     "data": {
      "text/plain": [
       "array([[34, 12],\n",
       "       [56,  0],\n",
       "       [ 8,  5]])"
      ]
     },
     "execution_count": 113,
     "metadata": {},
     "output_type": "execute_result"
    }
   ],
   "source": [
    "np.transpose(arr)"
   ]
  },
  {
   "cell_type": "code",
   "execution_count": 114,
   "id": "43ab3472",
   "metadata": {},
   "outputs": [
    {
     "data": {
      "text/plain": [
       "array([[34, 12],\n",
       "       [56,  0],\n",
       "       [ 8,  5]])"
      ]
     },
     "execution_count": 114,
     "metadata": {},
     "output_type": "execute_result"
    }
   ],
   "source": [
    "#Alternate way of transpose\n",
    "arr.T"
   ]
  },
  {
   "cell_type": "markdown",
   "id": "3dace238",
   "metadata": {},
   "source": [
    "#### 1.7.3 Sorting"
   ]
  },
  {
   "cell_type": "code",
   "execution_count": null,
   "id": "5cb325e9",
   "metadata": {},
   "outputs": [],
   "source": [
    "# sort() function is used to sort elements in ascending order"
   ]
  },
  {
   "cell_type": "code",
   "execution_count": 120,
   "id": "853ece2e",
   "metadata": {},
   "outputs": [
    {
     "data": {
      "text/plain": [
       "array([1, 2, 3, 4])"
      ]
     },
     "execution_count": 120,
     "metadata": {},
     "output_type": "execute_result"
    }
   ],
   "source": [
    "arr1 = np.array([4, 2, 1, 3])\n",
    "np.sort(arr1)"
   ]
  },
  {
   "cell_type": "code",
   "execution_count": 124,
   "id": "6661d80c",
   "metadata": {},
   "outputs": [
    {
     "data": {
      "text/plain": [
       "array([[1, 2, 4],\n",
       "       [3, 5, 6]])"
      ]
     },
     "execution_count": 124,
     "metadata": {},
     "output_type": "execute_result"
    }
   ],
   "source": [
    "arr2 = np.array([[4, 2, 1],\n",
    "                 [6, 5, 3]])\n",
    "np.sort(arr2)"
   ]
  },
  {
   "cell_type": "code",
   "execution_count": 122,
   "id": "b59e025b",
   "metadata": {},
   "outputs": [
    {
     "data": {
      "text/plain": [
       "array([[1, 2, 4],\n",
       "       [3, 5, 6]])"
      ]
     },
     "execution_count": 122,
     "metadata": {},
     "output_type": "execute_result"
    }
   ],
   "source": [
    "np.sort(arr2)"
   ]
  },
  {
   "cell_type": "code",
   "execution_count": null,
   "id": "458d34de",
   "metadata": {},
   "outputs": [],
   "source": [
    "#sorting in descending order"
   ]
  },
  {
   "cell_type": "code",
   "execution_count": 126,
   "id": "e033e824",
   "metadata": {},
   "outputs": [
    {
     "data": {
      "text/plain": [
       "array([4, 3, 2, 1])"
      ]
     },
     "execution_count": 126,
     "metadata": {},
     "output_type": "execute_result"
    }
   ],
   "source": [
    "np.sort(arr1)[::-1]"
   ]
  },
  {
   "cell_type": "markdown",
   "id": "48b9431d",
   "metadata": {},
   "source": [
    "#### 1.7.4 Concatenating and satcking "
   ]
  },
  {
   "cell_type": "code",
   "execution_count": 139,
   "id": "90d3f75f",
   "metadata": {},
   "outputs": [],
   "source": [
    "arr1 = np.array([1, 2, 3])\n",
    "arr2 = np.array([4, 5, 6])\n",
    "arr3 = np.array([7, 8, 9])"
   ]
  },
  {
   "cell_type": "code",
   "execution_count": 140,
   "id": "24706612",
   "metadata": {},
   "outputs": [
    {
     "data": {
      "text/plain": [
       "array([1, 2, 3, 4, 5, 6, 7, 8, 9])"
      ]
     },
     "execution_count": 140,
     "metadata": {},
     "output_type": "execute_result"
    }
   ],
   "source": [
    "#concatenate(): is used to join arrays along an existing axis.\n",
    "np.concatenate((arr1, arr2, arr3))"
   ]
  },
  {
   "cell_type": "code",
   "execution_count": 144,
   "id": "be0de617",
   "metadata": {},
   "outputs": [
    {
     "data": {
      "text/plain": [
       "array([[1, 2, 3],\n",
       "       [4, 5, 6],\n",
       "       [7, 8, 9]])"
      ]
     },
     "execution_count": 144,
     "metadata": {},
     "output_type": "execute_result"
    }
   ],
   "source": [
    "#stack(): is used to join arrays along a new axis.\n",
    "np.stack((arr1, arr2, arr3))"
   ]
  },
  {
   "cell_type": "code",
   "execution_count": 146,
   "id": "931ef9fd",
   "metadata": {},
   "outputs": [
    {
     "data": {
      "text/plain": [
       "array([1, 2, 3, 4, 5, 6, 7, 8, 9])"
      ]
     },
     "execution_count": 146,
     "metadata": {},
     "output_type": "execute_result"
    }
   ],
   "source": [
    "#hstack(): is used to stack arrays horizontally, column-wise.\n",
    "np.hstack((arr1, arr2, arr3))"
   ]
  },
  {
   "cell_type": "code",
   "execution_count": 147,
   "id": "f25033fd",
   "metadata": {},
   "outputs": [
    {
     "data": {
      "text/plain": [
       "array([[1, 2, 3],\n",
       "       [4, 5, 6],\n",
       "       [7, 8, 9]])"
      ]
     },
     "execution_count": 147,
     "metadata": {},
     "output_type": "execute_result"
    }
   ],
   "source": [
    "#vstack(): is used to stack arrays vertically, row-wise.\n",
    "np.vstack((arr1, arr2, arr3))"
   ]
  },
  {
   "cell_type": "markdown",
   "id": "54a8167a",
   "metadata": {},
   "source": [
    "### 1.8 Load data from a file"
   ]
  },
  {
   "cell_type": "code",
   "execution_count": 156,
   "id": "6a718b3e",
   "metadata": {},
   "outputs": [
    {
     "data": {
      "text/plain": [
       "array([[  1.,  13.,  21.,  11., 196.,  75.,   4.,   3.,  34.,   6.,   7.,\n",
       "          8.,   0.,   1.,   2.,   3.,   4.,   5.],\n",
       "       [  3.,  42.,  12.,  33., 766.,  75.,   4.,  55.,   6.,   4.,   3.,\n",
       "          4.,   5.,   6.,   7.,   0.,  11.,  12.],\n",
       "       [  1.,  22.,  33.,  11., 999.,  11.,   2.,   1.,  78.,   0.,   1.,\n",
       "          2.,   9.,   8.,   7.,   1.,  76.,  88.]])"
      ]
     },
     "execution_count": 156,
     "metadata": {},
     "output_type": "execute_result"
    }
   ],
   "source": [
    "#np.loadtxt()\n",
    "#np.genfromtxt()\n",
    "'''Both are used to import data from a file. But genfromtext() method is more flexible and capable of handling data from files \n",
    "with irregular structures'''\n",
    "data = np.genfromtxt('../Datasets/doc.txt', delimiter=',')\n",
    "data"
   ]
  },
  {
   "cell_type": "markdown",
   "id": "ab63274c",
   "metadata": {},
   "source": [
    "### 1.9 Changing arrary datatype"
   ]
  },
  {
   "cell_type": "code",
   "execution_count": 11,
   "id": "163ae8d9",
   "metadata": {},
   "outputs": [
    {
     "name": "stdout",
     "output_type": "stream",
     "text": [
      "int32\n"
     ]
    },
    {
     "data": {
      "text/plain": [
       "4"
      ]
     },
     "execution_count": 11,
     "metadata": {},
     "output_type": "execute_result"
    }
   ],
   "source": [
    "#default datatype is int32\n",
    "arr = np.array([34, 56, 78])\n",
    "print(arr.dtype)\n",
    "arr.itemsize"
   ]
  },
  {
   "cell_type": "markdown",
   "id": "0463741a",
   "metadata": {},
   "source": [
    "##### 1.9.1 Changing datatype during creation"
   ]
  },
  {
   "cell_type": "code",
   "execution_count": 12,
   "id": "893b4ca2",
   "metadata": {},
   "outputs": [
    {
     "name": "stdout",
     "output_type": "stream",
     "text": [
      "int16\n"
     ]
    },
    {
     "data": {
      "text/plain": [
       "2"
      ]
     },
     "execution_count": 12,
     "metadata": {},
     "output_type": "execute_result"
    }
   ],
   "source": [
    "#Changing datatype to int16\n",
    "arr = np.array([34, 56, 78], dtype='int16')\n",
    "print(arr.dtype)\n",
    "arr.itemsize"
   ]
  },
  {
   "cell_type": "code",
   "execution_count": 13,
   "id": "95a5f831",
   "metadata": {},
   "outputs": [
    {
     "name": "stdout",
     "output_type": "stream",
     "text": [
      "int64\n"
     ]
    },
    {
     "data": {
      "text/plain": [
       "8"
      ]
     },
     "execution_count": 13,
     "metadata": {},
     "output_type": "execute_result"
    }
   ],
   "source": [
    "#Changing datatype to int64\n",
    "arr = np.array([34, 56, 78], dtype='int64')\n",
    "print(arr.dtype)\n",
    "arr.itemsize"
   ]
  },
  {
   "cell_type": "code",
   "execution_count": 16,
   "id": "fd5c38a5",
   "metadata": {},
   "outputs": [
    {
     "name": "stdout",
     "output_type": "stream",
     "text": [
      "int8\n"
     ]
    },
    {
     "data": {
      "text/plain": [
       "1"
      ]
     },
     "execution_count": 16,
     "metadata": {},
     "output_type": "execute_result"
    }
   ],
   "source": [
    "#Changing datatype to int8\n",
    "arr = np.array([34, 56, 78], dtype='int8')\n",
    "print(arr.dtype)\n",
    "arr.itemsize"
   ]
  },
  {
   "cell_type": "markdown",
   "id": "8f4db0f4",
   "metadata": {},
   "source": [
    "##### 1.9.2 Changing datatype after creation"
   ]
  },
  {
   "cell_type": "code",
   "execution_count": 28,
   "id": "92680b6a",
   "metadata": {},
   "outputs": [
    {
     "name": "stdout",
     "output_type": "stream",
     "text": [
      "int8\n"
     ]
    }
   ],
   "source": [
    "arr = np.array([34, 56, 78], dtype='int8')\n",
    "print(arr.dtype)"
   ]
  },
  {
   "cell_type": "code",
   "execution_count": 30,
   "id": "2f15f241",
   "metadata": {},
   "outputs": [
    {
     "data": {
      "text/plain": [
       "dtype('int32')"
      ]
     },
     "execution_count": 30,
     "metadata": {},
     "output_type": "execute_result"
    }
   ],
   "source": [
    "arr = arr.astype('int32')\n",
    "arr.dtype"
   ]
  },
  {
   "cell_type": "markdown",
   "id": "76967617",
   "metadata": {},
   "source": [
    "#### 1.9.3 Converting array to list"
   ]
  },
  {
   "cell_type": "code",
   "execution_count": 75,
   "id": "1c08af66",
   "metadata": {},
   "outputs": [
    {
     "data": {
      "text/plain": [
       "array([ 34,  56,  78, -27,   0])"
      ]
     },
     "execution_count": 75,
     "metadata": {},
     "output_type": "execute_result"
    }
   ],
   "source": [
    "arr = np.array([34, 56, 78, -27, 0])\n",
    "arr"
   ]
  },
  {
   "cell_type": "code",
   "execution_count": 77,
   "id": "2e97577e",
   "metadata": {},
   "outputs": [
    {
     "data": {
      "text/plain": [
       "[34, 56, 78, -27, 0]"
      ]
     },
     "execution_count": 77,
     "metadata": {},
     "output_type": "execute_result"
    }
   ],
   "source": [
    "li = arr.tolist()\n",
    "li"
   ]
  },
  {
   "cell_type": "markdown",
   "id": "561bca7d",
   "metadata": {},
   "source": [
    "### 1.9 Condition Based Retrieval"
   ]
  },
  {
   "cell_type": "code",
   "execution_count": 32,
   "id": "bc4bb534",
   "metadata": {},
   "outputs": [],
   "source": [
    "arr = np.array([12, 87, 45, 90, -34, 11])"
   ]
  },
  {
   "cell_type": "code",
   "execution_count": 21,
   "id": "baa6199a",
   "metadata": {},
   "outputs": [
    {
     "data": {
      "text/plain": [
       "array([12, 87, 45, 90, 11])"
      ]
     },
     "execution_count": 21,
     "metadata": {},
     "output_type": "execute_result"
    }
   ],
   "source": [
    "arr[arr > 10]"
   ]
  },
  {
   "cell_type": "code",
   "execution_count": 33,
   "id": "db598a9c",
   "metadata": {},
   "outputs": [],
   "source": [
    "arr2 = np.array([[ 34,  56, 8],\n",
    "                [ 12,   0, 5]])"
   ]
  },
  {
   "cell_type": "code",
   "execution_count": 24,
   "id": "b2551c39",
   "metadata": {},
   "outputs": [
    {
     "data": {
      "text/plain": [
       "array([ 8, 12,  0,  5])"
      ]
     },
     "execution_count": 24,
     "metadata": {},
     "output_type": "execute_result"
    }
   ],
   "source": [
    "arr2[arr2 < 20]"
   ]
  },
  {
   "cell_type": "code",
   "execution_count": 26,
   "id": "197ddb52",
   "metadata": {},
   "outputs": [
    {
     "data": {
      "text/plain": [
       "array([56,  8, 12,  0,  5])"
      ]
     },
     "execution_count": 26,
     "metadata": {},
     "output_type": "execute_result"
    }
   ],
   "source": [
    "arr2[arr2 != 34]"
   ]
  },
  {
   "cell_type": "code",
   "execution_count": 34,
   "id": "ef9adf01",
   "metadata": {},
   "outputs": [
    {
     "data": {
      "text/plain": [
       "array([ True, False, False, False,  True,  True])"
      ]
     },
     "execution_count": 34,
     "metadata": {},
     "output_type": "execute_result"
    }
   ],
   "source": [
    "arr < 30"
   ]
  },
  {
   "cell_type": "code",
   "execution_count": 35,
   "id": "4b77579c",
   "metadata": {},
   "outputs": [
    {
     "data": {
      "text/plain": [
       "array([[ True,  True,  True],\n",
       "       [ True, False,  True]])"
      ]
     },
     "execution_count": 35,
     "metadata": {},
     "output_type": "execute_result"
    }
   ],
   "source": [
    "arr2 != 0 "
   ]
  },
  {
   "cell_type": "code",
   "execution_count": 40,
   "id": "11e918cd",
   "metadata": {},
   "outputs": [
    {
     "data": {
      "text/plain": [
       "array([[False, False, False],\n",
       "       [False,  True, False]])"
      ]
     },
     "execution_count": 40,
     "metadata": {},
     "output_type": "execute_result"
    }
   ],
   "source": [
    "~(arr2 != 0) #Negation"
   ]
  },
  {
   "cell_type": "code",
   "execution_count": 69,
   "id": "eaf7c724",
   "metadata": {},
   "outputs": [
    {
     "data": {
      "text/plain": [
       "array([False,  True, False])"
      ]
     },
     "execution_count": 69,
     "metadata": {},
     "output_type": "execute_result"
    }
   ],
   "source": [
    "arr1 = np.array([1, 2, 3])\n",
    "arr2 = np.array([4, 2, 6])\n",
    "arr1 == arr2"
   ]
  },
  {
   "cell_type": "markdown",
   "id": "f4127e4b",
   "metadata": {},
   "source": [
    "### 2.0 Insertion/Deletion"
   ]
  },
  {
   "cell_type": "code",
   "execution_count": 41,
   "id": "14465d74",
   "metadata": {},
   "outputs": [],
   "source": [
    "# Inserting data\n",
    "# adding single data : insert(arr, index, value)\n",
    "# adding multiple data : insert(arr, index, list)"
   ]
  },
  {
   "cell_type": "code",
   "execution_count": 58,
   "id": "e8691471",
   "metadata": {},
   "outputs": [
    {
     "data": {
      "text/plain": [
       "array([1, 2, 3, 4, 5])"
      ]
     },
     "execution_count": 58,
     "metadata": {},
     "output_type": "execute_result"
    }
   ],
   "source": [
    "arr = np.array([1, 2, 3, 4, 5])\n",
    "arr"
   ]
  },
  {
   "cell_type": "code",
   "execution_count": 60,
   "id": "f73b67a2",
   "metadata": {},
   "outputs": [
    {
     "data": {
      "text/plain": [
       "array([ 1,  2, 10,  3,  4,  5])"
      ]
     },
     "execution_count": 60,
     "metadata": {},
     "output_type": "execute_result"
    }
   ],
   "source": [
    "np.insert(arr, 2, 10)"
   ]
  },
  {
   "cell_type": "code",
   "execution_count": 61,
   "id": "aad80ea9",
   "metadata": {},
   "outputs": [
    {
     "data": {
      "text/plain": [
       "array([ 1,  2, 10, 20, 30,  3,  4,  5])"
      ]
     },
     "execution_count": 61,
     "metadata": {},
     "output_type": "execute_result"
    }
   ],
   "source": [
    "arr = np.insert(arr, 2, [10, 20, 30])\n",
    "arr"
   ]
  },
  {
   "cell_type": "code",
   "execution_count": 62,
   "id": "8e1bf3eb",
   "metadata": {},
   "outputs": [],
   "source": [
    "# Deleting data\n",
    "# Deleting single data at specified index : delete(arr, index)\n",
    "# Deleting multiple data at specified index : delete(arr, list) #The list should contain indices of values to be deleted."
   ]
  },
  {
   "cell_type": "code",
   "execution_count": 63,
   "id": "d5c508e4",
   "metadata": {},
   "outputs": [
    {
     "data": {
      "text/plain": [
       "array([ 1,  2, 10, 20, 30,  3,  4,  5])"
      ]
     },
     "execution_count": 63,
     "metadata": {},
     "output_type": "execute_result"
    }
   ],
   "source": [
    "arr"
   ]
  },
  {
   "cell_type": "code",
   "execution_count": 64,
   "id": "5cbbe9fa",
   "metadata": {},
   "outputs": [
    {
     "data": {
      "text/plain": [
       "array([ 1,  2, 10, 30,  3,  4,  5])"
      ]
     },
     "execution_count": 64,
     "metadata": {},
     "output_type": "execute_result"
    }
   ],
   "source": [
    "np.delete(arr, 3)"
   ]
  },
  {
   "cell_type": "code",
   "execution_count": 65,
   "id": "4730324f",
   "metadata": {},
   "outputs": [
    {
     "data": {
      "text/plain": [
       "array([ 1,  2, 10, 20, 30,  3,  4,  5])"
      ]
     },
     "execution_count": 65,
     "metadata": {},
     "output_type": "execute_result"
    }
   ],
   "source": [
    "arr"
   ]
  },
  {
   "cell_type": "code",
   "execution_count": 66,
   "id": "811db6d4",
   "metadata": {},
   "outputs": [
    {
     "data": {
      "text/plain": [
       "array([1, 2, 3, 4, 5])"
      ]
     },
     "execution_count": 66,
     "metadata": {},
     "output_type": "execute_result"
    }
   ],
   "source": [
    "np.delete(arr, [2, 3, 4])"
   ]
  },
  {
   "cell_type": "code",
   "execution_count": 70,
   "id": "a3941648",
   "metadata": {},
   "outputs": [
    {
     "data": {
      "text/plain": [
       "array([ 1,  2, 10, 20, 30,  3,  4,  5])"
      ]
     },
     "execution_count": 70,
     "metadata": {},
     "output_type": "execute_result"
    }
   ],
   "source": [
    "arr"
   ]
  },
  {
   "cell_type": "code",
   "execution_count": 71,
   "id": "c496cc19",
   "metadata": {},
   "outputs": [
    {
     "data": {
      "text/plain": [
       "array([ 1,  2, 10, 20, 30,  3,  4,  5])"
      ]
     },
     "execution_count": 71,
     "metadata": {},
     "output_type": "execute_result"
    }
   ],
   "source": [
    "arr.view()"
   ]
  },
  {
   "cell_type": "markdown",
   "id": "9e053760",
   "metadata": {},
   "source": [
    "#### 2.1 Getting Information from any operation"
   ]
  },
  {
   "cell_type": "code",
   "execution_count": 84,
   "id": "cca2b0c9",
   "metadata": {},
   "outputs": [],
   "source": [
    "#np.info(operation)"
   ]
  },
  {
   "cell_type": "code",
   "execution_count": 85,
   "id": "8cde074b",
   "metadata": {},
   "outputs": [
    {
     "name": "stdout",
     "output_type": "stream",
     "text": [
      " delete(arr, obj, axis=None)\n",
      "\n",
      "Return a new array with sub-arrays along an axis deleted. For a one\n",
      "dimensional array, this returns those entries not returned by\n",
      "`arr[obj]`.\n",
      "\n",
      "Parameters\n",
      "----------\n",
      "arr : array_like\n",
      "    Input array.\n",
      "obj : slice, int or array of ints\n",
      "    Indicate indices of sub-arrays to remove along the specified axis.\n",
      "\n",
      "    .. versionchanged:: 1.19.0\n",
      "        Boolean indices are now treated as a mask of elements to remove,\n",
      "        rather than being cast to the integers 0 and 1.\n",
      "\n",
      "axis : int, optional\n",
      "    The axis along which to delete the subarray defined by `obj`.\n",
      "    If `axis` is None, `obj` is applied to the flattened array.\n",
      "\n",
      "Returns\n",
      "-------\n",
      "out : ndarray\n",
      "    A copy of `arr` with the elements specified by `obj` removed. Note\n",
      "    that `delete` does not occur in-place. If `axis` is None, `out` is\n",
      "    a flattened array.\n",
      "\n",
      "See Also\n",
      "--------\n",
      "insert : Insert elements into an array.\n",
      "append : Append elements at the end of an array.\n",
      "\n",
      "Notes\n",
      "-----\n",
      "Often it is preferable to use a boolean mask. For example:\n",
      "\n",
      ">>> arr = np.arange(12) + 1\n",
      ">>> mask = np.ones(len(arr), dtype=bool)\n",
      ">>> mask[[0,2,4]] = False\n",
      ">>> result = arr[mask,...]\n",
      "\n",
      "Is equivalent to ``np.delete(arr, [0,2,4], axis=0)``, but allows further\n",
      "use of `mask`.\n",
      "\n",
      "Examples\n",
      "--------\n",
      ">>> arr = np.array([[1,2,3,4], [5,6,7,8], [9,10,11,12]])\n",
      ">>> arr\n",
      "array([[ 1,  2,  3,  4],\n",
      "       [ 5,  6,  7,  8],\n",
      "       [ 9, 10, 11, 12]])\n",
      ">>> np.delete(arr, 1, 0)\n",
      "array([[ 1,  2,  3,  4],\n",
      "       [ 9, 10, 11, 12]])\n",
      "\n",
      ">>> np.delete(arr, np.s_[::2], 1)\n",
      "array([[ 2,  4],\n",
      "       [ 6,  8],\n",
      "       [10, 12]])\n",
      ">>> np.delete(arr, [1,3,5], None)\n",
      "array([ 1,  3,  5,  7,  8,  9, 10, 11, 12])\n"
     ]
    }
   ],
   "source": [
    "np.info(np.delete)"
   ]
  },
  {
   "cell_type": "markdown",
   "id": "a1132de5",
   "metadata": {},
   "source": [
    "#### 2.2 Iterating arrays"
   ]
  },
  {
   "cell_type": "code",
   "execution_count": 5,
   "id": "3d01a47f",
   "metadata": {},
   "outputs": [
    {
     "name": "stdout",
     "output_type": "stream",
     "text": [
      "2\n",
      "4\n",
      "6\n",
      "8\n",
      "10\n",
      "12\n"
     ]
    }
   ],
   "source": [
    "# nditer() allows to iterate over arrays\n",
    "arr = np.array([[ 2,  4],\n",
    "                [ 6,  8],\n",
    "                [10, 12]])\n",
    "\n",
    "for x in np.nditer(arr):\n",
    "    print(x)"
   ]
  },
  {
   "cell_type": "markdown",
   "id": "8f8f2481",
   "metadata": {},
   "source": [
    "#### 2.3 Splitting arrays"
   ]
  },
  {
   "cell_type": "code",
   "execution_count": 7,
   "id": "47119792",
   "metadata": {},
   "outputs": [
    {
     "data": {
      "text/plain": [
       "[array([12,  2,  5]), array([ 7, 10]), array([33,  4])]"
      ]
     },
     "execution_count": 7,
     "metadata": {},
     "output_type": "execute_result"
    }
   ],
   "source": [
    "# np.array_split() allows to split an array into multiple sub-arrays.\n",
    "# np.array_split(arr, num)\n",
    "# num specifies number of subarrays\n",
    "\n",
    "arr = np.array([12, 2, 5, 7, 10, 33, 4])\n",
    "\n",
    "np.array_split(arr, 3)"
   ]
  }
 ],
 "metadata": {
  "kernelspec": {
   "display_name": "Python 3 (ipykernel)",
   "language": "python",
   "name": "python3"
  },
  "language_info": {
   "codemirror_mode": {
    "name": "ipython",
    "version": 3
   },
   "file_extension": ".py",
   "mimetype": "text/x-python",
   "name": "python",
   "nbconvert_exporter": "python",
   "pygments_lexer": "ipython3",
   "version": "3.10.4"
  }
 },
 "nbformat": 4,
 "nbformat_minor": 5
}
